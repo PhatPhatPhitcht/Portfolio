{
 "cells": [
  {
   "cell_type": "markdown",
   "metadata": {
    "editable": true,
    "slideshow": {
     "slide_type": "slide"
    },
    "tags": []
   },
   "source": [
    "## O Danych\n",
    "\n",
    "Zbiór danych zawiera informacje o trzech gatunkach irysów: Iris setosa, Iris versicolor, i Iris virginica.\n",
    "\n",
    "Dane obejmują pomiary czterech cech: długość i szerokość działki kielicha oraz długość i szerokość płatka.\n",
    "\n",
    "Każdy wiersz w zbiorze danych reprezentuje pojedynczy kwiat, a wartości pomiarów są podane w centymetrach.\n",
    "\n",
    "Zbiór składa się z 150 próbek, po 50 dla każdego gatunku, i jest szeroko stosowany jako podstawowy zbiór danych do\n",
    "testowania algorytmów klasyfikacji oraz w nauce o danych i uczeniu maszynowym.\n",
    "\n",
    "Kolumny:\n",
    "* **długość kielicha (sepal length)** - Długość kielicha w cm\n",
    "* **szerokość kielicha (sepal width)** - Szerokość kielicha w cm\n",
    "* **długość płatka (petal length)** - Długość płatka w cm\n",
    "* **szerokość płatka (petal width)** - Szerokość płatka w cm\n",
    "* **klasa (class)** - Klasa irysa (setosa, versicolor, virginica)"
   ]
  },
  {
   "cell_type": "code",
   "execution_count": 1,
   "metadata": {
    "editable": true,
    "slideshow": {
     "slide_type": "skip"
    },
    "tags": []
   },
   "outputs": [],
   "source": [
    "import pandas as pd\n",
    "import matplotlib.pyplot as plt"
   ]
  },
  {
   "cell_type": "code",
   "execution_count": 2,
   "metadata": {
    "editable": true,
    "scrolled": true,
    "slideshow": {
     "slide_type": "skip"
    },
    "tags": []
   },
   "outputs": [
    {
     "data": {
      "text/html": [
       "<div>\n",
       "<style scoped>\n",
       "    .dataframe tbody tr th:only-of-type {\n",
       "        vertical-align: middle;\n",
       "    }\n",
       "\n",
       "    .dataframe tbody tr th {\n",
       "        vertical-align: top;\n",
       "    }\n",
       "\n",
       "    .dataframe thead th {\n",
       "        text-align: right;\n",
       "    }\n",
       "</style>\n",
       "<table border=\"1\" class=\"dataframe\">\n",
       "  <thead>\n",
       "    <tr style=\"text-align: right;\">\n",
       "      <th></th>\n",
       "      <th>długość kielicha (sepal length)</th>\n",
       "      <th>szerokość kielicha (sepal width)</th>\n",
       "      <th>długość płatka (petal length)</th>\n",
       "      <th>szerokość płatka (petal width)</th>\n",
       "      <th>klasa (class)</th>\n",
       "    </tr>\n",
       "  </thead>\n",
       "  <tbody>\n",
       "    <tr>\n",
       "      <th>0</th>\n",
       "      <td>5.1</td>\n",
       "      <td>3.5</td>\n",
       "      <td>1.4</td>\n",
       "      <td>0.2</td>\n",
       "      <td>Iris-setosa</td>\n",
       "    </tr>\n",
       "    <tr>\n",
       "      <th>1</th>\n",
       "      <td>4.9</td>\n",
       "      <td>3.0</td>\n",
       "      <td>1.4</td>\n",
       "      <td>0.2</td>\n",
       "      <td>Iris-setosa</td>\n",
       "    </tr>\n",
       "    <tr>\n",
       "      <th>2</th>\n",
       "      <td>4.7</td>\n",
       "      <td>3.2</td>\n",
       "      <td>1.3</td>\n",
       "      <td>0.2</td>\n",
       "      <td>Iris-setosa</td>\n",
       "    </tr>\n",
       "    <tr>\n",
       "      <th>3</th>\n",
       "      <td>4.6</td>\n",
       "      <td>3.1</td>\n",
       "      <td>1.5</td>\n",
       "      <td>0.2</td>\n",
       "      <td>Iris-setosa</td>\n",
       "    </tr>\n",
       "    <tr>\n",
       "      <th>4</th>\n",
       "      <td>5.0</td>\n",
       "      <td>3.6</td>\n",
       "      <td>1.4</td>\n",
       "      <td>0.2</td>\n",
       "      <td>Iris-setosa</td>\n",
       "    </tr>\n",
       "    <tr>\n",
       "      <th>...</th>\n",
       "      <td>...</td>\n",
       "      <td>...</td>\n",
       "      <td>...</td>\n",
       "      <td>...</td>\n",
       "      <td>...</td>\n",
       "    </tr>\n",
       "    <tr>\n",
       "      <th>145</th>\n",
       "      <td>6.7</td>\n",
       "      <td>3.0</td>\n",
       "      <td>5.2</td>\n",
       "      <td>2.3</td>\n",
       "      <td>Iris-virginica</td>\n",
       "    </tr>\n",
       "    <tr>\n",
       "      <th>146</th>\n",
       "      <td>6.3</td>\n",
       "      <td>2.5</td>\n",
       "      <td>5.0</td>\n",
       "      <td>1.9</td>\n",
       "      <td>Iris-virginica</td>\n",
       "    </tr>\n",
       "    <tr>\n",
       "      <th>147</th>\n",
       "      <td>6.5</td>\n",
       "      <td>3.0</td>\n",
       "      <td>5.2</td>\n",
       "      <td>2.0</td>\n",
       "      <td>Iris-virginica</td>\n",
       "    </tr>\n",
       "    <tr>\n",
       "      <th>148</th>\n",
       "      <td>6.2</td>\n",
       "      <td>3.4</td>\n",
       "      <td>5.4</td>\n",
       "      <td>2.3</td>\n",
       "      <td>Iris-virginica</td>\n",
       "    </tr>\n",
       "    <tr>\n",
       "      <th>149</th>\n",
       "      <td>5.9</td>\n",
       "      <td>3.0</td>\n",
       "      <td>5.1</td>\n",
       "      <td>1.8</td>\n",
       "      <td>Iris-virginica</td>\n",
       "    </tr>\n",
       "  </tbody>\n",
       "</table>\n",
       "<p>150 rows × 5 columns</p>\n",
       "</div>"
      ],
      "text/plain": [
       "     długość kielicha (sepal length)  szerokość kielicha (sepal width)  \\\n",
       "0                                5.1                               3.5   \n",
       "1                                4.9                               3.0   \n",
       "2                                4.7                               3.2   \n",
       "3                                4.6                               3.1   \n",
       "4                                5.0                               3.6   \n",
       "..                               ...                               ...   \n",
       "145                              6.7                               3.0   \n",
       "146                              6.3                               2.5   \n",
       "147                              6.5                               3.0   \n",
       "148                              6.2                               3.4   \n",
       "149                              5.9                               3.0   \n",
       "\n",
       "     długość płatka (petal length)  szerokość płatka (petal width)  \\\n",
       "0                              1.4                             0.2   \n",
       "1                              1.4                             0.2   \n",
       "2                              1.3                             0.2   \n",
       "3                              1.5                             0.2   \n",
       "4                              1.4                             0.2   \n",
       "..                             ...                             ...   \n",
       "145                            5.2                             2.3   \n",
       "146                            5.0                             1.9   \n",
       "147                            5.2                             2.0   \n",
       "148                            5.4                             2.3   \n",
       "149                            5.1                             1.8   \n",
       "\n",
       "      klasa (class)  \n",
       "0       Iris-setosa  \n",
       "1       Iris-setosa  \n",
       "2       Iris-setosa  \n",
       "3       Iris-setosa  \n",
       "4       Iris-setosa  \n",
       "..              ...  \n",
       "145  Iris-virginica  \n",
       "146  Iris-virginica  \n",
       "147  Iris-virginica  \n",
       "148  Iris-virginica  \n",
       "149  Iris-virginica  \n",
       "\n",
       "[150 rows x 5 columns]"
      ]
     },
     "execution_count": 2,
     "metadata": {},
     "output_type": "execute_result"
    }
   ],
   "source": [
    "df = pd.read_csv('25__iris.csv', sep=\",\")\n",
    "df"
   ]
  },
  {
   "cell_type": "markdown",
   "metadata": {
    "editable": true,
    "slideshow": {
     "slide_type": "slide"
    },
    "tags": []
   },
   "source": [
    "# Ogólny przegląd danych"
   ]
  },
  {
   "cell_type": "code",
   "execution_count": 5,
   "metadata": {
    "editable": true,
    "slideshow": {
     "slide_type": "fragment"
    },
    "tags": []
   },
   "outputs": [
    {
     "data": {
      "text/plain": [
       "długość kielicha (sepal length)     150\n",
       "szerokość kielicha (sepal width)    150\n",
       "długość płatka (petal length)       150\n",
       "szerokość płatka (petal width)      150\n",
       "klasa (class)                       150\n",
       "dtype: int64"
      ]
     },
     "execution_count": 5,
     "metadata": {},
     "output_type": "execute_result"
    }
   ],
   "source": [
    "df.count()"
   ]
  },
  {
   "cell_type": "code",
   "execution_count": 6,
   "metadata": {
    "editable": true,
    "scrolled": true,
    "slideshow": {
     "slide_type": "fragment"
    },
    "tags": []
   },
   "outputs": [
    {
     "name": "stdout",
     "output_type": "stream",
     "text": [
      "<class 'pandas.core.frame.DataFrame'>\n",
      "RangeIndex: 150 entries, 0 to 149\n",
      "Data columns (total 5 columns):\n",
      " #   Column                            Non-Null Count  Dtype  \n",
      "---  ------                            --------------  -----  \n",
      " 0   długość kielicha (sepal length)   150 non-null    float64\n",
      " 1   szerokość kielicha (sepal width)  150 non-null    float64\n",
      " 2   długość płatka (petal length)     150 non-null    float64\n",
      " 3   szerokość płatka (petal width)    150 non-null    float64\n",
      " 4   klasa (class)                     150 non-null    object \n",
      "dtypes: float64(4), object(1)\n",
      "memory usage: 6.0+ KB\n"
     ]
    }
   ],
   "source": [
    "df.info()"
   ]
  },
  {
   "cell_type": "code",
   "execution_count": 10,
   "metadata": {
    "editable": true,
    "slideshow": {
     "slide_type": "skip"
    },
    "tags": []
   },
   "outputs": [
    {
     "data": {
      "text/plain": [
       "3"
      ]
     },
     "execution_count": 10,
     "metadata": {},
     "output_type": "execute_result"
    }
   ],
   "source": [
    "df['klasa (class)'].nunique()"
   ]
  },
  {
   "cell_type": "markdown",
   "metadata": {
    "editable": true,
    "slideshow": {
     "slide_type": "slide"
    },
    "tags": []
   },
   "source": [
    "**Dane przedstawiają informacje z analizy 150 unikatowych irysów należących do 3 podgatunków**"
   ]
  },
  {
   "cell_type": "code",
   "execution_count": 11,
   "metadata": {
    "editable": true,
    "slideshow": {
     "slide_type": "fragment"
    },
    "tags": []
   },
   "outputs": [
    {
     "data": {
      "text/html": [
       "<div>\n",
       "<style scoped>\n",
       "    .dataframe tbody tr th:only-of-type {\n",
       "        vertical-align: middle;\n",
       "    }\n",
       "\n",
       "    .dataframe tbody tr th {\n",
       "        vertical-align: top;\n",
       "    }\n",
       "\n",
       "    .dataframe thead th {\n",
       "        text-align: right;\n",
       "    }\n",
       "</style>\n",
       "<table border=\"1\" class=\"dataframe\">\n",
       "  <thead>\n",
       "    <tr style=\"text-align: right;\">\n",
       "      <th></th>\n",
       "      <th>długość kielicha (sepal length)</th>\n",
       "      <th>szerokość kielicha (sepal width)</th>\n",
       "      <th>długość płatka (petal length)</th>\n",
       "      <th>szerokość płatka (petal width)</th>\n",
       "    </tr>\n",
       "  </thead>\n",
       "  <tbody>\n",
       "    <tr>\n",
       "      <th>count</th>\n",
       "      <td>150.000000</td>\n",
       "      <td>150.000000</td>\n",
       "      <td>150.000000</td>\n",
       "      <td>150.000000</td>\n",
       "    </tr>\n",
       "    <tr>\n",
       "      <th>mean</th>\n",
       "      <td>5.843333</td>\n",
       "      <td>3.054000</td>\n",
       "      <td>3.758667</td>\n",
       "      <td>1.198667</td>\n",
       "    </tr>\n",
       "    <tr>\n",
       "      <th>std</th>\n",
       "      <td>0.828066</td>\n",
       "      <td>0.433594</td>\n",
       "      <td>1.764420</td>\n",
       "      <td>0.763161</td>\n",
       "    </tr>\n",
       "    <tr>\n",
       "      <th>min</th>\n",
       "      <td>4.300000</td>\n",
       "      <td>2.000000</td>\n",
       "      <td>1.000000</td>\n",
       "      <td>0.100000</td>\n",
       "    </tr>\n",
       "    <tr>\n",
       "      <th>25%</th>\n",
       "      <td>5.100000</td>\n",
       "      <td>2.800000</td>\n",
       "      <td>1.600000</td>\n",
       "      <td>0.300000</td>\n",
       "    </tr>\n",
       "    <tr>\n",
       "      <th>50%</th>\n",
       "      <td>5.800000</td>\n",
       "      <td>3.000000</td>\n",
       "      <td>4.350000</td>\n",
       "      <td>1.300000</td>\n",
       "    </tr>\n",
       "    <tr>\n",
       "      <th>75%</th>\n",
       "      <td>6.400000</td>\n",
       "      <td>3.300000</td>\n",
       "      <td>5.100000</td>\n",
       "      <td>1.800000</td>\n",
       "    </tr>\n",
       "    <tr>\n",
       "      <th>max</th>\n",
       "      <td>7.900000</td>\n",
       "      <td>4.400000</td>\n",
       "      <td>6.900000</td>\n",
       "      <td>2.500000</td>\n",
       "    </tr>\n",
       "  </tbody>\n",
       "</table>\n",
       "</div>"
      ],
      "text/plain": [
       "       długość kielicha (sepal length)  szerokość kielicha (sepal width)  \\\n",
       "count                       150.000000                        150.000000   \n",
       "mean                          5.843333                          3.054000   \n",
       "std                           0.828066                          0.433594   \n",
       "min                           4.300000                          2.000000   \n",
       "25%                           5.100000                          2.800000   \n",
       "50%                           5.800000                          3.000000   \n",
       "75%                           6.400000                          3.300000   \n",
       "max                           7.900000                          4.400000   \n",
       "\n",
       "       długość płatka (petal length)  szerokość płatka (petal width)  \n",
       "count                     150.000000                      150.000000  \n",
       "mean                        3.758667                        1.198667  \n",
       "std                         1.764420                        0.763161  \n",
       "min                         1.000000                        0.100000  \n",
       "25%                         1.600000                        0.300000  \n",
       "50%                         4.350000                        1.300000  \n",
       "75%                         5.100000                        1.800000  \n",
       "max                         6.900000                        2.500000  "
      ]
     },
     "execution_count": 11,
     "metadata": {},
     "output_type": "execute_result"
    }
   ],
   "source": [
    "df.describe()"
   ]
  },
  {
   "cell_type": "markdown",
   "metadata": {
    "editable": true,
    "slideshow": {
     "slide_type": "slide"
    },
    "tags": []
   },
   "source": [
    "# Analiza pojedynczych zmiennych"
   ]
  },
  {
   "cell_type": "code",
   "execution_count": 7,
   "metadata": {
    "editable": true,
    "slideshow": {
     "slide_type": "fragment"
    },
    "tags": []
   },
   "outputs": [
    {
     "data": {
      "text/html": [
       "<div>\n",
       "<style scoped>\n",
       "    .dataframe tbody tr th:only-of-type {\n",
       "        vertical-align: middle;\n",
       "    }\n",
       "\n",
       "    .dataframe tbody tr th {\n",
       "        vertical-align: top;\n",
       "    }\n",
       "\n",
       "    .dataframe thead th {\n",
       "        text-align: right;\n",
       "    }\n",
       "</style>\n",
       "<table border=\"1\" class=\"dataframe\">\n",
       "  <thead>\n",
       "    <tr style=\"text-align: right;\">\n",
       "      <th></th>\n",
       "      <th>klasa (class)</th>\n",
       "      <th>długość kielicha (sepal length)</th>\n",
       "      <th>szerokość kielicha (sepal width)</th>\n",
       "      <th>długość płatka (petal length)</th>\n",
       "      <th>szerokość płatka (petal width)</th>\n",
       "    </tr>\n",
       "  </thead>\n",
       "  <tbody>\n",
       "    <tr>\n",
       "      <th>0</th>\n",
       "      <td>Iris-setosa</td>\n",
       "      <td>5.006</td>\n",
       "      <td>3.418</td>\n",
       "      <td>1.464</td>\n",
       "      <td>0.244</td>\n",
       "    </tr>\n",
       "    <tr>\n",
       "      <th>1</th>\n",
       "      <td>Iris-versicolor</td>\n",
       "      <td>5.936</td>\n",
       "      <td>2.770</td>\n",
       "      <td>4.260</td>\n",
       "      <td>1.326</td>\n",
       "    </tr>\n",
       "    <tr>\n",
       "      <th>2</th>\n",
       "      <td>Iris-virginica</td>\n",
       "      <td>6.588</td>\n",
       "      <td>2.974</td>\n",
       "      <td>5.552</td>\n",
       "      <td>2.026</td>\n",
       "    </tr>\n",
       "  </tbody>\n",
       "</table>\n",
       "</div>"
      ],
      "text/plain": [
       "     klasa (class)  długość kielicha (sepal length)  \\\n",
       "0      Iris-setosa                            5.006   \n",
       "1  Iris-versicolor                            5.936   \n",
       "2   Iris-virginica                            6.588   \n",
       "\n",
       "   szerokość kielicha (sepal width)  długość płatka (petal length)  \\\n",
       "0                             3.418                          1.464   \n",
       "1                             2.770                          4.260   \n",
       "2                             2.974                          5.552   \n",
       "\n",
       "   szerokość płatka (petal width)  \n",
       "0                           0.244  \n",
       "1                           1.326  \n",
       "2                           2.026  "
      ]
     },
     "execution_count": 7,
     "metadata": {},
     "output_type": "execute_result"
    }
   ],
   "source": [
    "df.groupby('klasa (class)', as_index=False).mean()"
   ]
  },
  {
   "cell_type": "markdown",
   "metadata": {
    "editable": true,
    "slideshow": {
     "slide_type": "fragment"
    },
    "tags": []
   },
   "source": [
    "**W zależności od podgatunku widzimy duże zmaiany w średnich rozmiarach**"
   ]
  },
  {
   "cell_type": "markdown",
   "metadata": {
    "editable": true,
    "slideshow": {
     "slide_type": "slide"
    },
    "tags": []
   },
   "source": [
    "**Histogram wizualizuję zależność z widocznymi wzrostami dla średnich wartości.**"
   ]
  },
  {
   "cell_type": "code",
   "execution_count": 8,
   "metadata": {
    "editable": true,
    "slideshow": {
     "slide_type": "fragment"
    },
    "tags": []
   },
   "outputs": [
    {
     "data": {
      "text/plain": [
       "<Axes: >"
      ]
     },
     "execution_count": 8,
     "metadata": {},
     "output_type": "execute_result"
    },
    {
     "data": {
      "image/png": "[encoded data removed]",
      "text/plain": [
       "<Figure size 640x480 with 1 Axes>"
      ]
     },
     "metadata": {},
     "output_type": "display_data"
    }
   ],
   "source": [
    "df['długość kielicha (sepal length)'].hist()"
   ]
  },
  {
   "cell_type": "markdown",
   "metadata": {
    "editable": true,
    "slideshow": {
     "slide_type": "slide"
    },
    "tags": []
   },
   "source": [
    "**Zależności dla klasy Iris-setosa**"
   ]
  },
  {
   "cell_type": "code",
   "execution_count": 19,
   "metadata": {
    "editable": true,
    "slideshow": {
     "slide_type": "fragment"
    },
    "tags": []
   },
   "outputs": [
    {
     "data": {
      "text/plain": [
       "<Figure size 10000x600 with 0 Axes>"
      ]
     },
     "metadata": {},
     "output_type": "display_data"
    },
    {
     "data": {
      "image/png": "[encoded data removed]",
      "text/plain": [
       "<Figure size 640x480 with 1 Axes>"
      ]
     },
     "metadata": {},
     "output_type": "display_data"
    }
   ],
   "source": [
    "df_c1 = df[df['klasa (class)']=='Iris-setosa']\n",
    "df_c1 = df_c1.drop('klasa (class)', axis=1)\n",
    "df_c1.columns = ['długość kielicha', 'szerokość kielicha', 'długość płatka', 'szerokość płatka']\n",
    "plt.figure(figsize=(100, 6))\n",
    "df_c1.plot(kind='box', legend=True)\n",
    "plt.title('Boxploty cech irysów typu Iris-setosa')\n",
    "plt.ylabel('Długość')\n",
    "plt.grid(True, alpha=0.3)\n",
    "plt.tight_layout()\n",
    "plt.show()"
   ]
  },
  {
   "cell_type": "markdown",
   "metadata": {
    "editable": true,
    "slideshow": {
     "slide_type": "slide"
    },
    "tags": []
   },
   "source": [
    "**Zależności dla klasy Iris-versicolor**"
   ]
  },
  {
   "cell_type": "code",
   "execution_count": 20,
   "metadata": {
    "editable": true,
    "slideshow": {
     "slide_type": "fragment"
    },
    "tags": []
   },
   "outputs": [
    {
     "data": {
      "text/plain": [
       "<Figure size 10000x600 with 0 Axes>"
      ]
     },
     "metadata": {},
     "output_type": "display_data"
    },
    {
     "data": {
      "image/png": "[encoded data removed]",
      "text/plain": [
       "<Figure size 640x480 with 1 Axes>"
      ]
     },
     "metadata": {},
     "output_type": "display_data"
    }
   ],
   "source": [
    "df_c2 = df[df['klasa (class)']=='Iris-versicolor']\n",
    "df_c2 = df_c2.drop('klasa (class)', axis=1)\n",
    "df_c2.columns = ['długość kielicha', 'szerokość kielicha', 'długość płatka', 'szerokość płatka']\n",
    "plt.figure(figsize=(100, 6))\n",
    "df_c2.plot(kind='box', legend=True)\n",
    "plt.title('Boxploty cech irysów typu Iris-versicolor')\n",
    "plt.ylabel('Długość')\n",
    "plt.grid(True, alpha=0.3)\n",
    "plt.tight_layout()\n",
    "plt.show()"
   ]
  },
  {
   "cell_type": "markdown",
   "metadata": {
    "editable": true,
    "slideshow": {
     "slide_type": "slide"
    },
    "tags": []
   },
   "source": [
    "**Zależności dla klasy Iris-virginica**"
   ]
  },
  {
   "cell_type": "code",
   "execution_count": 21,
   "metadata": {
    "editable": true,
    "slideshow": {
     "slide_type": "fragment"
    },
    "tags": []
   },
   "outputs": [
    {
     "data": {
      "text/plain": [
       "<Figure size 10000x600 with 0 Axes>"
      ]
     },
     "metadata": {},
     "output_type": "display_data"
    },
    {
     "data": {
      "image/png": "[encoded data removed]",
      "text/plain": [
       "<Figure size 640x480 with 1 Axes>"
      ]
     },
     "metadata": {},
     "output_type": "display_data"
    }
   ],
   "source": [
    "df_c3 = df[df['klasa (class)']=='Iris-virginica']\n",
    "df_c3 = df_c3.drop('klasa (class)', axis=1)\n",
    "df_c3.columns = ['długość kielicha', 'szerokość kielicha', 'długość płatka', 'szerokość płatka']\n",
    "plt.figure(figsize=(100, 6))\n",
    "df_c3.plot(kind='box', legend=True)\n",
    "plt.title('Boxploty cech irysów typu Iris-virginica')\n",
    "plt.ylabel('Długość')\n",
    "plt.grid(True, alpha=0.3)\n",
    "plt.tight_layout()\n",
    "plt.show()"
   ]
  },
  {
   "cell_type": "markdown",
   "metadata": {
    "editable": true,
    "slideshow": {
     "slide_type": "slide"
    },
    "tags": []
   },
   "source": [
    "**Wszystkie gatunki mają podobną długość kielicha, ale widoczne są różnice w Iris setosa:**  \n",
    "**-Posada znacznie większą szerokość kielicha**  \n",
    "**-Ale posada znacznie krótszy płatek**  "
   ]
  },
  {
   "cell_type": "markdown",
   "metadata": {
    "editable": true,
    "slideshow": {
     "slide_type": "slide"
    },
    "tags": []
   },
   "source": [
    "# Analiza korelacji"
   ]
  },
  {
   "cell_type": "markdown",
   "metadata": {
    "editable": true,
    "slideshow": {
     "slide_type": "slide"
    },
    "tags": []
   },
   "source": [
    "**Iris-setosa**"
   ]
  },
  {
   "cell_type": "code",
   "execution_count": 25,
   "metadata": {
    "editable": true,
    "slideshow": {
     "slide_type": "fragment"
    },
    "tags": []
   },
   "outputs": [
    {
     "data": {
      "text/html": [
       "<style type=\"text/css\">\n",
       "#T_31fa4_row0_col0, #T_31fa4_row1_col1, #T_31fa4_row2_col2, #T_31fa4_row3_col3 {\n",
       "  color: white;\n",
       "  background-color: darkgreen;\n",
       "}\n",
       "#T_31fa4_row0_col3, #T_31fa4_row1_col2, #T_31fa4_row2_col0, #T_31fa4_row2_col1 {\n",
       "  color: white;\n",
       "  background-color: darkred;\n",
       "}\n",
       "</style>\n",
       "<table id=\"T_31fa4\">\n",
       "  <thead>\n",
       "    <tr>\n",
       "      <th class=\"blank level0\" >&nbsp;</th>\n",
       "      <th id=\"T_31fa4_level0_col0\" class=\"col_heading level0 col0\" >długość kielicha</th>\n",
       "      <th id=\"T_31fa4_level0_col1\" class=\"col_heading level0 col1\" >szerokość kielicha</th>\n",
       "      <th id=\"T_31fa4_level0_col2\" class=\"col_heading level0 col2\" >długość płatka</th>\n",
       "      <th id=\"T_31fa4_level0_col3\" class=\"col_heading level0 col3\" >szerokość płatka</th>\n",
       "    </tr>\n",
       "  </thead>\n",
       "  <tbody>\n",
       "    <tr>\n",
       "      <th id=\"T_31fa4_level0_row0\" class=\"row_heading level0 row0\" >długość kielicha</th>\n",
       "      <td id=\"T_31fa4_row0_col0\" class=\"data row0 col0\" >1.000000</td>\n",
       "      <td id=\"T_31fa4_row0_col1\" class=\"data row0 col1\" >0.746780</td>\n",
       "      <td id=\"T_31fa4_row0_col2\" class=\"data row0 col2\" >0.263874</td>\n",
       "      <td id=\"T_31fa4_row0_col3\" class=\"data row0 col3\" >0.279092</td>\n",
       "    </tr>\n",
       "    <tr>\n",
       "      <th id=\"T_31fa4_level0_row1\" class=\"row_heading level0 row1\" >szerokość kielicha</th>\n",
       "      <td id=\"T_31fa4_row1_col0\" class=\"data row1 col0\" >0.746780</td>\n",
       "      <td id=\"T_31fa4_row1_col1\" class=\"data row1 col1\" >1.000000</td>\n",
       "      <td id=\"T_31fa4_row1_col2\" class=\"data row1 col2\" >0.176695</td>\n",
       "      <td id=\"T_31fa4_row1_col3\" class=\"data row1 col3\" >0.279973</td>\n",
       "    </tr>\n",
       "    <tr>\n",
       "      <th id=\"T_31fa4_level0_row2\" class=\"row_heading level0 row2\" >długość płatka</th>\n",
       "      <td id=\"T_31fa4_row2_col0\" class=\"data row2 col0\" >0.263874</td>\n",
       "      <td id=\"T_31fa4_row2_col1\" class=\"data row2 col1\" >0.176695</td>\n",
       "      <td id=\"T_31fa4_row2_col2\" class=\"data row2 col2\" >1.000000</td>\n",
       "      <td id=\"T_31fa4_row2_col3\" class=\"data row2 col3\" >0.306308</td>\n",
       "    </tr>\n",
       "    <tr>\n",
       "      <th id=\"T_31fa4_level0_row3\" class=\"row_heading level0 row3\" >szerokość płatka</th>\n",
       "      <td id=\"T_31fa4_row3_col0\" class=\"data row3 col0\" >0.279092</td>\n",
       "      <td id=\"T_31fa4_row3_col1\" class=\"data row3 col1\" >0.279973</td>\n",
       "      <td id=\"T_31fa4_row3_col2\" class=\"data row3 col2\" >0.306308</td>\n",
       "      <td id=\"T_31fa4_row3_col3\" class=\"data row3 col3\" >1.000000</td>\n",
       "    </tr>\n",
       "  </tbody>\n",
       "</table>\n"
      ],
      "text/plain": [
       "<pandas.io.formats.style.Styler at 0x1dbba2eab50>"
      ]
     },
     "execution_count": 25,
     "metadata": {},
     "output_type": "execute_result"
    }
   ],
   "source": [
    "(\n",
    "    df_c1.corr(numeric_only=True).style\n",
    "    .highlight_max(axis=0, props='color:white;background-color:darkgreen')\n",
    "    .highlight_min(axis=0, props='color:white;background-color:darkred')\n",
    ")"
   ]
  },
  {
   "cell_type": "markdown",
   "metadata": {
    "editable": true,
    "slideshow": {
     "slide_type": "slide"
    },
    "tags": []
   },
   "source": [
    "**Iris-versicolor**"
   ]
  },
  {
   "cell_type": "code",
   "execution_count": 26,
   "metadata": {
    "editable": true,
    "slideshow": {
     "slide_type": "fragment"
    },
    "tags": []
   },
   "outputs": [
    {
     "data": {
      "text/html": [
       "<style type=\"text/css\">\n",
       "#T_89e96_row0_col0, #T_89e96_row1_col1, #T_89e96_row2_col2, #T_89e96_row3_col3 {\n",
       "  color: white;\n",
       "  background-color: darkgreen;\n",
       "}\n",
       "#T_89e96_row0_col1, #T_89e96_row0_col3, #T_89e96_row1_col0, #T_89e96_row1_col2 {\n",
       "  color: white;\n",
       "  background-color: darkred;\n",
       "}\n",
       "</style>\n",
       "<table id=\"T_89e96\">\n",
       "  <thead>\n",
       "    <tr>\n",
       "      <th class=\"blank level0\" >&nbsp;</th>\n",
       "      <th id=\"T_89e96_level0_col0\" class=\"col_heading level0 col0\" >długość kielicha</th>\n",
       "      <th id=\"T_89e96_level0_col1\" class=\"col_heading level0 col1\" >szerokość kielicha</th>\n",
       "      <th id=\"T_89e96_level0_col2\" class=\"col_heading level0 col2\" >długość płatka</th>\n",
       "      <th id=\"T_89e96_level0_col3\" class=\"col_heading level0 col3\" >szerokość płatka</th>\n",
       "    </tr>\n",
       "  </thead>\n",
       "  <tbody>\n",
       "    <tr>\n",
       "      <th id=\"T_89e96_level0_row0\" class=\"row_heading level0 row0\" >długość kielicha</th>\n",
       "      <td id=\"T_89e96_row0_col0\" class=\"data row0 col0\" >1.000000</td>\n",
       "      <td id=\"T_89e96_row0_col1\" class=\"data row0 col1\" >0.525911</td>\n",
       "      <td id=\"T_89e96_row0_col2\" class=\"data row0 col2\" >0.754049</td>\n",
       "      <td id=\"T_89e96_row0_col3\" class=\"data row0 col3\" >0.546461</td>\n",
       "    </tr>\n",
       "    <tr>\n",
       "      <th id=\"T_89e96_level0_row1\" class=\"row_heading level0 row1\" >szerokość kielicha</th>\n",
       "      <td id=\"T_89e96_row1_col0\" class=\"data row1 col0\" >0.525911</td>\n",
       "      <td id=\"T_89e96_row1_col1\" class=\"data row1 col1\" >1.000000</td>\n",
       "      <td id=\"T_89e96_row1_col2\" class=\"data row1 col2\" >0.560522</td>\n",
       "      <td id=\"T_89e96_row1_col3\" class=\"data row1 col3\" >0.663999</td>\n",
       "    </tr>\n",
       "    <tr>\n",
       "      <th id=\"T_89e96_level0_row2\" class=\"row_heading level0 row2\" >długość płatka</th>\n",
       "      <td id=\"T_89e96_row2_col0\" class=\"data row2 col0\" >0.754049</td>\n",
       "      <td id=\"T_89e96_row2_col1\" class=\"data row2 col1\" >0.560522</td>\n",
       "      <td id=\"T_89e96_row2_col2\" class=\"data row2 col2\" >1.000000</td>\n",
       "      <td id=\"T_89e96_row2_col3\" class=\"data row2 col3\" >0.786668</td>\n",
       "    </tr>\n",
       "    <tr>\n",
       "      <th id=\"T_89e96_level0_row3\" class=\"row_heading level0 row3\" >szerokość płatka</th>\n",
       "      <td id=\"T_89e96_row3_col0\" class=\"data row3 col0\" >0.546461</td>\n",
       "      <td id=\"T_89e96_row3_col1\" class=\"data row3 col1\" >0.663999</td>\n",
       "      <td id=\"T_89e96_row3_col2\" class=\"data row3 col2\" >0.786668</td>\n",
       "      <td id=\"T_89e96_row3_col3\" class=\"data row3 col3\" >1.000000</td>\n",
       "    </tr>\n",
       "  </tbody>\n",
       "</table>\n"
      ],
      "text/plain": [
       "<pandas.io.formats.style.Styler at 0x1dbba316550>"
      ]
     },
     "execution_count": 26,
     "metadata": {},
     "output_type": "execute_result"
    }
   ],
   "source": [
    "(\n",
    "    df_c2.corr(numeric_only=True).style\n",
    "    .highlight_max(axis=0, props='color:white;background-color:darkgreen')\n",
    "    .highlight_min(axis=0, props='color:white;background-color:darkred')\n",
    ")"
   ]
  },
  {
   "cell_type": "markdown",
   "metadata": {
    "editable": true,
    "slideshow": {
     "slide_type": "slide"
    },
    "tags": []
   },
   "source": [
    "**Iris-virginica**"
   ]
  },
  {
   "cell_type": "code",
   "execution_count": 27,
   "metadata": {
    "editable": true,
    "slideshow": {
     "slide_type": "fragment"
    },
    "tags": []
   },
   "outputs": [
    {
     "data": {
      "text/html": [
       "<style type=\"text/css\">\n",
       "#T_5286c_row0_col0, #T_5286c_row1_col1, #T_5286c_row2_col2, #T_5286c_row3_col3 {\n",
       "  color: white;\n",
       "  background-color: darkgreen;\n",
       "}\n",
       "#T_5286c_row0_col3, #T_5286c_row2_col1, #T_5286c_row3_col0, #T_5286c_row3_col2 {\n",
       "  color: white;\n",
       "  background-color: darkred;\n",
       "}\n",
       "</style>\n",
       "<table id=\"T_5286c\">\n",
       "  <thead>\n",
       "    <tr>\n",
       "      <th class=\"blank level0\" >&nbsp;</th>\n",
       "      <th id=\"T_5286c_level0_col0\" class=\"col_heading level0 col0\" >długość kielicha</th>\n",
       "      <th id=\"T_5286c_level0_col1\" class=\"col_heading level0 col1\" >szerokość kielicha</th>\n",
       "      <th id=\"T_5286c_level0_col2\" class=\"col_heading level0 col2\" >długość płatka</th>\n",
       "      <th id=\"T_5286c_level0_col3\" class=\"col_heading level0 col3\" >szerokość płatka</th>\n",
       "    </tr>\n",
       "  </thead>\n",
       "  <tbody>\n",
       "    <tr>\n",
       "      <th id=\"T_5286c_level0_row0\" class=\"row_heading level0 row0\" >długość kielicha</th>\n",
       "      <td id=\"T_5286c_row0_col0\" class=\"data row0 col0\" >1.000000</td>\n",
       "      <td id=\"T_5286c_row0_col1\" class=\"data row0 col1\" >0.457228</td>\n",
       "      <td id=\"T_5286c_row0_col2\" class=\"data row0 col2\" >0.864225</td>\n",
       "      <td id=\"T_5286c_row0_col3\" class=\"data row0 col3\" >0.281108</td>\n",
       "    </tr>\n",
       "    <tr>\n",
       "      <th id=\"T_5286c_level0_row1\" class=\"row_heading level0 row1\" >szerokość kielicha</th>\n",
       "      <td id=\"T_5286c_row1_col0\" class=\"data row1 col0\" >0.457228</td>\n",
       "      <td id=\"T_5286c_row1_col1\" class=\"data row1 col1\" >1.000000</td>\n",
       "      <td id=\"T_5286c_row1_col2\" class=\"data row1 col2\" >0.401045</td>\n",
       "      <td id=\"T_5286c_row1_col3\" class=\"data row1 col3\" >0.537728</td>\n",
       "    </tr>\n",
       "    <tr>\n",
       "      <th id=\"T_5286c_level0_row2\" class=\"row_heading level0 row2\" >długość płatka</th>\n",
       "      <td id=\"T_5286c_row2_col0\" class=\"data row2 col0\" >0.864225</td>\n",
       "      <td id=\"T_5286c_row2_col1\" class=\"data row2 col1\" >0.401045</td>\n",
       "      <td id=\"T_5286c_row2_col2\" class=\"data row2 col2\" >1.000000</td>\n",
       "      <td id=\"T_5286c_row2_col3\" class=\"data row2 col3\" >0.322108</td>\n",
       "    </tr>\n",
       "    <tr>\n",
       "      <th id=\"T_5286c_level0_row3\" class=\"row_heading level0 row3\" >szerokość płatka</th>\n",
       "      <td id=\"T_5286c_row3_col0\" class=\"data row3 col0\" >0.281108</td>\n",
       "      <td id=\"T_5286c_row3_col1\" class=\"data row3 col1\" >0.537728</td>\n",
       "      <td id=\"T_5286c_row3_col2\" class=\"data row3 col2\" >0.322108</td>\n",
       "      <td id=\"T_5286c_row3_col3\" class=\"data row3 col3\" >1.000000</td>\n",
       "    </tr>\n",
       "  </tbody>\n",
       "</table>\n"
      ],
      "text/plain": [
       "<pandas.io.formats.style.Styler at 0x1dbb7dc6550>"
      ]
     },
     "execution_count": 27,
     "metadata": {},
     "output_type": "execute_result"
    }
   ],
   "source": [
    "(\n",
    "    df_c3.corr(numeric_only=True).style\n",
    "    .highlight_max(axis=0, props='color:white;background-color:darkgreen')\n",
    "    .highlight_min(axis=0, props='color:white;background-color:darkred')\n",
    ")"
   ]
  },
  {
   "cell_type": "markdown",
   "metadata": {
    "editable": true,
    "slideshow": {
     "slide_type": "slide"
    },
    "tags": []
   },
   "source": [
    "**Wykres obrazujący rozsianie długości i szerokości kielicha**"
   ]
  },
  {
   "cell_type": "code",
   "execution_count": 27,
   "metadata": {
    "editable": true,
    "slideshow": {
     "slide_type": "fragment"
    },
    "tags": []
   },
   "outputs": [
    {
     "data": {
      "text/plain": [
       "<Axes: xlabel='długość kielicha (sepal length)', ylabel='szerokość płatka (petal width)'>"
      ]
     },
     "execution_count": 27,
     "metadata": {},
     "output_type": "execute_result"
    },
    {
     "data": {
      "image/png": "[encoded data removed]",
      "text/plain": [
       "<Figure size 640x480 with 1 Axes>"
      ]
     },
     "metadata": {},
     "output_type": "display_data"
    }
   ],
   "source": [
    "df.plot(kind='scatter', x=\"długość kielicha (sepal length)\", y='szerokość płatka (petal width)')"
   ]
  },
  {
   "cell_type": "markdown",
   "metadata": {
    "editable": true,
    "slideshow": {
     "slide_type": "fragment"
    },
    "tags": []
   },
   "source": [
    "**Widzimy zależność między długością płatka i kielicha, oczywiście, kiedy jeden element rośnie, reszta zmienia się proporcjonalnie**"
   ]
  },
  {
   "cell_type": "code",
   "execution_count": 29,
   "metadata": {
    "editable": true,
    "slideshow": {
     "slide_type": "slide"
    },
    "tags": []
   },
   "outputs": [
    {
     "data": {
      "text/plain": [
       "<Axes: xlabel='szerokość kielicha (sepal width)', ylabel='szerokość płatka (petal width)'>"
      ]
     },
     "execution_count": 29,
     "metadata": {},
     "output_type": "execute_result"
    },
    {
     "data": {
      "image/png": "[encoded data removed]",
      "text/plain": [
       "<Figure size 640x480 with 1 Axes>"
      ]
     },
     "metadata": {},
     "output_type": "display_data"
    }
   ],
   "source": [
    "df.plot(kind='scatter', x=\"szerokość kielicha (sepal width)\", y='szerokość płatka (petal width)')"
   ]
  },
  {
   "cell_type": "markdown",
   "metadata": {
    "editable": true,
    "slideshow": {
     "slide_type": "fragment"
    },
    "tags": []
   },
   "source": [
    "**Dla szerokości zależność jest prawie że odwrotna. Zmiany są bardzo nieproporcjonalne co prawdopodobnie wynika z różnic między klasami**  \n",
    "**Istnije niewiele mutacji, chociaż występują osobniki z bardzo unikatowymi rozmiarami.** "
   ]
  },
  {
   "cell_type": "markdown",
   "metadata": {
    "editable": true,
    "slideshow": {
     "slide_type": "slide"
    },
    "tags": []
   },
   "source": [
    "# Wnioski:"
   ]
  },
  {
   "cell_type": "markdown",
   "metadata": {
    "editable": true,
    "slideshow": {
     "slide_type": "fragment"
    },
    "tags": []
   },
   "source": [
    "- Rożnice w tej samej klasie są niewielkie\n",
    "- Iris-setosa wyróżnia się małą długością płatka\n",
    "- Brak pustych wpisów\n",
    "- W zależności od gatunku istnieją różne korelacje między wielkością poszczególnych elementów"
   ]
  },
  {
   "cell_type": "code",
   "execution_count": 1,
   "metadata": {
    "editable": true,
    "slideshow": {
     "slide_type": ""
    },
    "tags": []
   },
   "outputs": [
    {
     "name": "stderr",
     "output_type": "stream",
     "text": [
      "[NbConvertApp] Converting notebook zadanie_irys.ipynb to slides\n",
      "[NbConvertApp] WARNING | Alternative text is missing on 6 image(s).\n",
      "[NbConvertApp] Writing 452251 bytes to zadanie_irys.slides.html\n"
     ]
    }
   ],
   "source": [
    "!jupyter nbconvert zadanie_irys.ipynb --to slides --no-input --no-prompt"
   ]
  },
  {
   "cell_type": "code",
   "execution_count": null,
   "metadata": {
    "editable": true,
    "slideshow": {
     "slide_type": ""
    },
    "tags": []
   },
   "outputs": [],
   "source": []
  }
 ],
 "metadata": {
  "kernelspec": {
   "display_name": "Python 3 (ipykernel)",
   "language": "python",
   "name": "python3"
  },
  "language_info": {
   "codemirror_mode": {
    "name": "ipython",
    "version": 3
   },
   "file_extension": ".py",
   "mimetype": "text/x-python",
   "name": "python",
   "nbconvert_exporter": "python",
   "pygments_lexer": "ipython3",
   "version": "3.11.11"
  }
 },
 "nbformat": 4,
 "nbformat_minor": 4
}
